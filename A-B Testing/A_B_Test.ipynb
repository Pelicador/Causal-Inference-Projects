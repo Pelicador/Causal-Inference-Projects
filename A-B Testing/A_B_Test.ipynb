{
 "cells": [
  {
   "cell_type": "markdown",
   "id": "8287a739",
   "metadata": {},
   "source": [
    "## Designing an Experiment"
   ]
  },
  {
   "cell_type": "code",
   "execution_count": 66,
   "id": "b6c85475",
   "metadata": {},
   "outputs": [],
   "source": [
    "import pandas as pd\n",
    "import numpy as np\n",
    "import seaborn as sns\n",
    "import matplotlib.pyplot as plt"
   ]
  },
  {
   "cell_type": "markdown",
   "id": "68d1b29c",
   "metadata": {},
   "source": [
    "#### Background\n",
    "Omnibay, a fast-growing e-commerce platform selling everything from books to electronics, began noticing unusual trends - electronics were driving high traffic but also the most cart abandonments and support issues. Customers were engaging heavily with electronics but often leaving without completing purchases, prompting internal discussions about whether a dedicated electronics website might better serve that audience. Recognizing the need for data-driven decision-making, the leadership team decided to bring in a data analyst to investigate customer behavior, shopping patterns, and potential impacts on the overall business.\n",
    "\n",
    "Omnibay wants to run an experiment to see if we can convince more people to purchase our electronics if we use a dedicated technology website. We’ve designed a new modern website, but aren’t sure if this strategy will sell enough units to benefit from establishing a business relationship with a new provider.\n",
    "\n",
    "Before running this experiment, of course, we need to know the sample size that will be required to detect the difference we are hoping for. There are three things we need to know before we can determine that number.\n",
    "\n",
    "- The Baseline Conversion Rate\n",
    "- Minimum Detectable Effect (desired lift)\n",
    "- and the Statistical Significance Threshold\n"
   ]
  },
  {
   "cell_type": "markdown",
   "id": "1b139ab2",
   "metadata": {},
   "source": [
    "In order to get our baseline, first we need to know how many customers visit the site as well as how many visitors ultimately end up buying an electronic device in a typical month."
   ]
  },
  {
   "cell_type": "code",
   "execution_count": 67,
   "id": "c2ef3184",
   "metadata": {},
   "outputs": [
    {
     "name": "stdout",
     "output_type": "stream",
     "text": [
      "Total Visitors: 1462\n",
      "Paying Visitors: 442\n"
     ]
    }
   ],
   "source": [
    "# Load visitor information\n",
    "all_visitors = pd.read_csv(\"electronics_customers.csv\")\n",
    "paying_visitors = pd.read_csv(\"electronics_purchasing_customers.csv\")\n",
    "\n",
    "# Tranform to date format\n",
    "all_visitors['Purchase Date'] = pd.to_datetime(all_visitors['Purchase Date'])\n",
    "paying_visitors['Purchase Date'] = pd.to_datetime(paying_visitors['Purchase Date'])\n",
    "\n",
    "# Focus on the month of august 2023\n",
    "start = pd.Timestamp('2023-08-01')\n",
    "end = pd.Timestamp('2023-08-31')\n",
    "\n",
    "# Filter dataset based on month\n",
    "august_visitors = all_visitors[(all_visitors['Purchase Date'] >= start) & (all_visitors['Purchase Date'] <= end)]\n",
    "august_paying = paying_visitors[(paying_visitors['Purchase Date'] >= start) & (paying_visitors['Purchase Date'] <= end)]\n",
    "\n",
    "# Calculate the lengths of the two lists\n",
    "total_visitor_count = len(august_visitors)\n",
    "paying_visitor_count = len(august_paying)\n",
    "\n",
    "print(f\"Total Visitors: {total_visitor_count}\")\n",
    "print(f\"Paying Visitors: {paying_visitor_count}\")\n",
    "\n"
   ]
  },
  {
   "cell_type": "markdown",
   "id": "5fa52997",
   "metadata": {},
   "source": [
    "Now to get the baseline: Divide the number of purchasing visitors by the number of total visitors. "
   ]
  },
  {
   "cell_type": "code",
   "execution_count": 68,
   "id": "1bce445c",
   "metadata": {},
   "outputs": [
    {
     "name": "stdout",
     "output_type": "stream",
     "text": [
      "Baseline conversion rate: 0.3023 (30.23%)\n"
     ]
    }
   ],
   "source": [
    "baseline_conversion_rate = paying_visitor_count / total_visitor_count \n",
    "print(f\"Baseline conversion rate: {baseline_conversion_rate:.4f} ({baseline_conversion_rate*100:.2f}%)\")\n"
   ]
  },
  {
   "cell_type": "markdown",
   "id": "9d97d3e2",
   "metadata": {},
   "source": [
    "Omnibay would like to know for sure that, with this change, we’ll be pulling in at least $100k more every month, to cover the cost of implementing and managing the new website. We need to figure out how many more paying visitors we need. First we’ll have to investigate the average revenue generated from a given sale to determine how many purchases it would take to reach $100k in additional revenue using our historical data. "
   ]
  },
  {
   "cell_type": "code",
   "execution_count": 69,
   "id": "5e1bcc36",
   "metadata": {},
   "outputs": [
    {
     "name": "stdout",
     "output_type": "stream",
     "text": [
      "Average Payment: 2729.425339366516\n",
      "Additional customers needed: 37.0\n"
     ]
    }
   ],
   "source": [
    "# Calculate the average payment made in august\n",
    "average_payment = np.mean(august_paying['Total Purchase Amount'])\n",
    "print(f\"Average Payment: {average_payment}\")\n",
    "\n",
    "# Calculate required additional customers\n",
    "additional_customers_needed = np.ceil(100000 / average_payment)\n",
    "print(f\"Additional customers needed: {additional_customers_needed}\")"
   ]
  },
  {
   "cell_type": "markdown",
   "id": "3c539a87",
   "metadata": {},
   "source": [
    "Now we need find the additional percent of weekly visitors who must make a purchase in order to make this change worthwhile."
   ]
  },
  {
   "cell_type": "code",
   "execution_count": 70,
   "id": "3b171676",
   "metadata": {},
   "outputs": [
    {
     "name": "stdout",
     "output_type": "stream",
     "text": [
      "Absolute percentage point increase needed: 0.0253 (2.53 pp)\n"
     ]
    }
   ],
   "source": [
    "# Calculate required absolute percentage point increase\n",
    "absolute_percentage_point_increase = additional_customers_needed / total_visitor_count\n",
    "print(f\"Absolute percentage point increase needed: {absolute_percentage_point_increase:.4f} ({absolute_percentage_point_increase*100:.2f} pp)\")\n"
   ]
  },
  {
   "cell_type": "code",
   "execution_count": 71,
   "id": "fae97767",
   "metadata": {},
   "outputs": [
    {
     "name": "stdout",
     "output_type": "stream",
     "text": [
      "Target conversion rate: 0.3276 (32.76%)\n"
     ]
    }
   ],
   "source": [
    "# Calculate the new conversion rate\n",
    "new_conversion_rate = baseline_conversion_rate + absolute_percentage_point_increase\n",
    "print(f\"Target conversion rate: {new_conversion_rate:.4f} ({new_conversion_rate*100:.2f}%)\")"
   ]
  },
  {
   "cell_type": "markdown",
   "id": "7d49fc72",
   "metadata": {},
   "source": [
    "In order to find our minimum detectable effect/desired lift, we need to express `percentage_point_increase` as a percent of `baseline_percent`."
   ]
  },
  {
   "cell_type": "code",
   "execution_count": 72,
   "id": "0939f1a6",
   "metadata": {},
   "outputs": [
    {
     "name": "stdout",
     "output_type": "stream",
     "text": [
      "Relative increase (MDE): 8.37%\n"
     ]
    }
   ],
   "source": [
    "# Calculate relative percentage increase (MDE)\n",
    "relative_increase = (absolute_percentage_point_increase / baseline_conversion_rate) * 100\n",
    "print(f\"Relative increase (MDE): {relative_increase:.2f}%\")"
   ]
  },
  {
   "cell_type": "markdown",
   "id": "b7f8e8c2",
   "metadata": {},
   "source": [
    "Omnibay would like to be fairly certain of the results of the experiment. We will decide on a significance treshold of 5%. \n",
    "\n",
    "\n",
    "Lastly, we need to calculate how many people need to be shown the new assets before we can check if the results are a significant improvement.\n"
   ]
  },
  {
   "cell_type": "code",
   "execution_count": 73,
   "id": "1f4cf04e",
   "metadata": {},
   "outputs": [
    {
     "name": "stdout",
     "output_type": "stream",
     "text": [
      "Required sample size per group: 5286\n",
      "Total sample size needed: 10573\n"
     ]
    }
   ],
   "source": [
    "from statsmodels.stats.power import NormalIndPower\n",
    "from statsmodels.stats.proportion import proportion_effectsize\n",
    "\n",
    "# Inputs\n",
    "p1 = baseline_conversion_rate                # Baseline conversion rate (30%)\n",
    "p2 = new_conversion_rate                     # Variant conversion rate\n",
    "alpha = 0.05                                 # Significance level\n",
    "power = 0.8                                  # Desired power (1 - beta)\n",
    "\n",
    "# Calculate effect size\n",
    "effect_size = proportion_effectsize(p1, p2)\n",
    "\n",
    "# Initialize power analysis object\n",
    "analysis = NormalIndPower()\n",
    "\n",
    "# Calculate sample size per group\n",
    "sample_size = analysis.solve_power(effect_size=effect_size, alpha=alpha, power=power, alternative='two-sided')\n",
    "print(f\"Required sample size per group: {int(round(sample_size))}\")\n",
    "print(f\"Total sample size needed: {int(np.ceil(sample_size * 2))}\")"
   ]
  },
  {
   "cell_type": "markdown",
   "id": "f481d5ab",
   "metadata": {},
   "source": [
    "We would need to show each version of the newb website to 5286 different visitors to get statistically significant result. Given we only receive around 2000 visitors per month, we would need to run the test for at least 6 months.\n",
    "\n",
    "Note: Determining the sample size is generally not needed when you are live testing different versions of a website. It is only important to determine testing and control group numbers in advanceto to in a controled research setting. "
   ]
  },
  {
   "cell_type": "markdown",
   "id": "793ab535",
   "metadata": {},
   "source": [
    "## Evaluating A/B Test"
   ]
  },
  {
   "cell_type": "markdown",
   "id": "1641ee77",
   "metadata": {},
   "source": [
    "We conducted an A/B test using the new website and we will be evaluating the result. Data was simulated in `Data_Manupulation.ipynb` where the control visitors were 30% likely to purchase an electronic device on the old website. The treatment drives a relative increases in the purchase rate by 10% using the old website."
   ]
  },
  {
   "cell_type": "markdown",
   "id": "4a32b4e7",
   "metadata": {},
   "source": [
    "We are interested in whether visitors are more likely to make a purchase if they are in any one group compared to the other. "
   ]
  },
  {
   "cell_type": "code",
   "execution_count": 98,
   "id": "45b89b10",
   "metadata": {},
   "outputs": [],
   "source": [
    "# Load the dataset\n",
    "data = pd.read_csv(\"electronics_ab_test_simulated_10pct_lift.csv\")\n",
    "\n",
    "data['treated'] = data['AB_Group'].map({'A':0, 'B':1})"
   ]
  },
  {
   "cell_type": "code",
   "execution_count": 100,
   "id": "5ed9ddf5",
   "metadata": {},
   "outputs": [
    {
     "name": "stdout",
     "output_type": "stream",
     "text": [
      "          count  mean\n",
      "AB_Group             \n",
      "A         31302  0.30\n",
      "B         31328  0.33\n"
     ]
    }
   ],
   "source": [
    "# print count and mean purchase rate of each group\n",
    "print(data.groupby(['AB_Group'])['Purchased'].agg(['count','mean']).round(2))"
   ]
  },
  {
   "cell_type": "markdown",
   "id": "ba041fce",
   "metadata": {},
   "source": [
    "### Evaluate experiment findings using linear regression\n"
   ]
  },
  {
   "cell_type": "code",
   "execution_count": 101,
   "id": "1e287f72",
   "metadata": {},
   "outputs": [
    {
     "name": "stdout",
     "output_type": "stream",
     "text": [
      "                            OLS Regression Results                            \n",
      "==============================================================================\n",
      "Dep. Variable:              Purchased   R-squared:                       0.001\n",
      "Model:                            OLS   Adj. R-squared:                  0.001\n",
      "Method:                 Least Squares   F-statistic:                     76.77\n",
      "Date:                Mon, 09 Jun 2025   Prob (F-statistic):           1.97e-18\n",
      "Time:                        23:55:16   Log-Likelihood:                -40920.\n",
      "No. Observations:               62630   AIC:                         8.184e+04\n",
      "Df Residuals:                   62628   BIC:                         8.186e+04\n",
      "Df Model:                           1                                         \n",
      "Covariance Type:            nonrobust                                         \n",
      "==============================================================================\n",
      "                 coef    std err          t      P>|t|      [0.025      0.975]\n",
      "------------------------------------------------------------------------------\n",
      "Intercept      0.3008      0.003    114.436      0.000       0.296       0.306\n",
      "treated        0.0326      0.004      8.762      0.000       0.025       0.040\n",
      "==============================================================================\n",
      "Omnibus:                   707321.641   Durbin-Watson:                   2.007\n",
      "Prob(Omnibus):                  0.000   Jarque-Bera (JB):            11386.627\n",
      "Skew:                           0.785   Prob(JB):                         0.00\n",
      "Kurtosis:                       1.621   Cond. No.                         2.62\n",
      "==============================================================================\n",
      "\n",
      "Notes:\n",
      "[1] Standard Errors assume that the covariance matrix of the errors is correctly specified.\n"
     ]
    }
   ],
   "source": [
    "import statsmodels.formula.api as smf \n",
    "\n",
    "formula = 'Purchased ~ treated'\n",
    "model = smf.ols(formula,data).fit()\n",
    "\n",
    "print(model.summary())"
   ]
  },
  {
   "cell_type": "markdown",
   "id": "94f3efe8",
   "metadata": {},
   "source": [
    "### Extract key values from the regression summary"
   ]
  },
  {
   "cell_type": "code",
   "execution_count": 103,
   "id": "86af0254",
   "metadata": {},
   "outputs": [
    {
     "name": "stdout",
     "output_type": "stream",
     "text": [
      "The estimated absolute impact is: 3.26%       \n",
      "The estimated relative impact is 10.83%       \n",
      "The t-statistic is 8.8       \n",
      "The p-value is 0.00%\n"
     ]
    }
   ],
   "source": [
    "print(\"The estimated absolute impact is: {0:.2f}% \\\n",
    "      \\nThe estimated relative impact is {1:.2f}% \\\n",
    "      \\nThe t-statistic is {2:.1f} \\\n",
    "      \\nThe p-value is {3:.2f}%\".format(\n",
    "        100*model.params['treated'],\n",
    "        100*model.params['treated']/model.params['Intercept'],\n",
    "        model.tvalues['treated'],\n",
    "        100*model.pvalues['treated']\n",
    "))"
   ]
  },
  {
   "cell_type": "markdown",
   "id": "03181984",
   "metadata": {},
   "source": [
    "### Replicate using a two-sample t-test comparing means"
   ]
  },
  {
   "cell_type": "code",
   "execution_count": 106,
   "id": "e272fe63",
   "metadata": {},
   "outputs": [
    {
     "name": "stdout",
     "output_type": "stream",
     "text": [
      "t-statistic: 8.8\n",
      "p-value: 0.0%\n"
     ]
    }
   ],
   "source": [
    "from scipy.stats import ttest_ind \n",
    "\n",
    "treated_users = data[data['treated']==1]['Purchased']\n",
    "control_users = data[data['treated']==0]['Purchased']\n",
    "\n",
    "t_stat, p_value = ttest_ind(treated_users, control_users)\n",
    "\n",
    "print(f\"t-statistic: {round(t_stat,1)}\")\n",
    "print(f\"p-value: {100*round(p_value,3)}%\")\n"
   ]
  },
  {
   "cell_type": "markdown",
   "id": "436d2764",
   "metadata": {},
   "source": [
    "### Conclusion\n",
    "\n",
    "We simulated data for the experiment where the true effect of the treatment increased signup rates by a relative 10% from a baseline signup rate of 30%. Naturally there will be sampling error as we only observe users in the experiment. In this case, our estimated treatment effect was a relative increase of 10.8% and the result was highly statistically significant (p <<< 0.01)."
   ]
  },
  {
   "cell_type": "code",
   "execution_count": null,
   "id": "f6a734c5",
   "metadata": {},
   "outputs": [],
   "source": []
  }
 ],
 "metadata": {
  "kernelspec": {
   "display_name": "base",
   "language": "python",
   "name": "python3"
  },
  "language_info": {
   "codemirror_mode": {
    "name": "ipython",
    "version": 3
   },
   "file_extension": ".py",
   "mimetype": "text/x-python",
   "name": "python",
   "nbconvert_exporter": "python",
   "pygments_lexer": "ipython3",
   "version": "3.12.7"
  }
 },
 "nbformat": 4,
 "nbformat_minor": 5
}
