{
 "cells": [
  {
   "cell_type": "markdown",
   "id": "df4d68ae",
   "metadata": {},
   "source": [
    "### Heart Disease Analysis - Hypothesis Testing\n",
    "\n",
    "In this project, I’ll investigate some data from a sample patients who were evaluated for heart disease at the Cleveland Clinic Foundation. The data was downloaded from the UCI Machine Learning Repository."
   ]
  },
  {
   "cell_type": "code",
   "execution_count": 66,
   "id": "4e6e70bb",
   "metadata": {},
   "outputs": [],
   "source": [
    "#Import General Libraries\n",
    "import pandas as pd\n",
    "import numpy as np\n",
    "import seaborn as sns\n",
    "import matplotlib.pyplot as plt"
   ]
  },
  {
   "cell_type": "code",
   "execution_count": 67,
   "id": "3df5e229",
   "metadata": {},
   "outputs": [
    {
     "data": {
      "text/html": [
       "<div>\n",
       "<style scoped>\n",
       "    .dataframe tbody tr th:only-of-type {\n",
       "        vertical-align: middle;\n",
       "    }\n",
       "\n",
       "    .dataframe tbody tr th {\n",
       "        vertical-align: top;\n",
       "    }\n",
       "\n",
       "    .dataframe thead th {\n",
       "        text-align: right;\n",
       "    }\n",
       "</style>\n",
       "<table border=\"1\" class=\"dataframe\">\n",
       "  <thead>\n",
       "    <tr style=\"text-align: right;\">\n",
       "      <th></th>\n",
       "      <th>age</th>\n",
       "      <th>sex</th>\n",
       "      <th>cp</th>\n",
       "      <th>trestbps</th>\n",
       "      <th>chol</th>\n",
       "      <th>fbs</th>\n",
       "      <th>restecg</th>\n",
       "      <th>thalch</th>\n",
       "      <th>exang</th>\n",
       "      <th>oldpeak</th>\n",
       "      <th>slope</th>\n",
       "      <th>ca</th>\n",
       "      <th>thal</th>\n",
       "      <th>num</th>\n",
       "    </tr>\n",
       "  </thead>\n",
       "  <tbody>\n",
       "    <tr>\n",
       "      <th>0</th>\n",
       "      <td>63</td>\n",
       "      <td>Male</td>\n",
       "      <td>typical angina</td>\n",
       "      <td>145.0</td>\n",
       "      <td>233.0</td>\n",
       "      <td>True</td>\n",
       "      <td>lv hypertrophy</td>\n",
       "      <td>150.0</td>\n",
       "      <td>False</td>\n",
       "      <td>2.3</td>\n",
       "      <td>downsloping</td>\n",
       "      <td>0.0</td>\n",
       "      <td>fixed defect</td>\n",
       "      <td>0</td>\n",
       "    </tr>\n",
       "    <tr>\n",
       "      <th>1</th>\n",
       "      <td>67</td>\n",
       "      <td>Male</td>\n",
       "      <td>asymptomatic</td>\n",
       "      <td>160.0</td>\n",
       "      <td>286.0</td>\n",
       "      <td>False</td>\n",
       "      <td>lv hypertrophy</td>\n",
       "      <td>108.0</td>\n",
       "      <td>True</td>\n",
       "      <td>1.5</td>\n",
       "      <td>flat</td>\n",
       "      <td>3.0</td>\n",
       "      <td>normal</td>\n",
       "      <td>2</td>\n",
       "    </tr>\n",
       "    <tr>\n",
       "      <th>2</th>\n",
       "      <td>67</td>\n",
       "      <td>Male</td>\n",
       "      <td>asymptomatic</td>\n",
       "      <td>120.0</td>\n",
       "      <td>229.0</td>\n",
       "      <td>False</td>\n",
       "      <td>lv hypertrophy</td>\n",
       "      <td>129.0</td>\n",
       "      <td>True</td>\n",
       "      <td>2.6</td>\n",
       "      <td>flat</td>\n",
       "      <td>2.0</td>\n",
       "      <td>reversable defect</td>\n",
       "      <td>1</td>\n",
       "    </tr>\n",
       "    <tr>\n",
       "      <th>3</th>\n",
       "      <td>37</td>\n",
       "      <td>Male</td>\n",
       "      <td>non-anginal</td>\n",
       "      <td>130.0</td>\n",
       "      <td>250.0</td>\n",
       "      <td>False</td>\n",
       "      <td>normal</td>\n",
       "      <td>187.0</td>\n",
       "      <td>False</td>\n",
       "      <td>3.5</td>\n",
       "      <td>downsloping</td>\n",
       "      <td>0.0</td>\n",
       "      <td>normal</td>\n",
       "      <td>0</td>\n",
       "    </tr>\n",
       "    <tr>\n",
       "      <th>4</th>\n",
       "      <td>41</td>\n",
       "      <td>Female</td>\n",
       "      <td>atypical angina</td>\n",
       "      <td>130.0</td>\n",
       "      <td>204.0</td>\n",
       "      <td>False</td>\n",
       "      <td>lv hypertrophy</td>\n",
       "      <td>172.0</td>\n",
       "      <td>False</td>\n",
       "      <td>1.4</td>\n",
       "      <td>upsloping</td>\n",
       "      <td>0.0</td>\n",
       "      <td>normal</td>\n",
       "      <td>0</td>\n",
       "    </tr>\n",
       "  </tbody>\n",
       "</table>\n",
       "</div>"
      ],
      "text/plain": [
       "   age     sex               cp  trestbps   chol    fbs         restecg  \\\n",
       "0   63    Male   typical angina     145.0  233.0   True  lv hypertrophy   \n",
       "1   67    Male     asymptomatic     160.0  286.0  False  lv hypertrophy   \n",
       "2   67    Male     asymptomatic     120.0  229.0  False  lv hypertrophy   \n",
       "3   37    Male      non-anginal     130.0  250.0  False          normal   \n",
       "4   41  Female  atypical angina     130.0  204.0  False  lv hypertrophy   \n",
       "\n",
       "   thalch  exang  oldpeak        slope   ca               thal  num  \n",
       "0   150.0  False      2.3  downsloping  0.0       fixed defect    0  \n",
       "1   108.0   True      1.5         flat  3.0             normal    2  \n",
       "2   129.0   True      2.6         flat  2.0  reversable defect    1  \n",
       "3   187.0  False      3.5  downsloping  0.0             normal    0  \n",
       "4   172.0  False      1.4    upsloping  0.0             normal    0  "
      ]
     },
     "execution_count": 67,
     "metadata": {},
     "output_type": "execute_result"
    }
   ],
   "source": [
    "#Load the dataset and investigate\n",
    "heart_raw= pd.read_csv('uci_heart_disease.csv')\n",
    "heart_raw.head()\n"
   ]
  },
  {
   "cell_type": "code",
   "execution_count": 71,
   "id": "c65b9a05",
   "metadata": {},
   "outputs": [],
   "source": [
    "# create copy of dataset and perform some data cleaning\n",
    "heart =heart_raw.copy()\n",
    "\n",
    "heart_disease = {0: 'absence',\n",
    "                 1: 'presence',\n",
    "                 2: 'presence',\n",
    "                 3: 'presence',\n",
    "                 4: 'presence'\n",
    "                 }\n",
    "\n",
    "heart['num'] =heart['num'].map(heart_disease)\n",
    "\n",
    "heart = heart.rename(columns={'num':'heart_disease'})\n",
    "\n",
    "heart = heart.dropna()\n",
    "\n",
    "\n"
   ]
  },
  {
   "cell_type": "code",
   "execution_count": 89,
   "id": "42f4f473",
   "metadata": {},
   "outputs": [],
   "source": [
    "#Split dataset into two subsets\n",
    "yes_hd = heart[heart['heart_disease'] == 'presence'] # patients with heart disease\n",
    "no_hd = heart[heart['heart_disease'] == 'absence'] # patients without heart disease\n"
   ]
  },
  {
   "cell_type": "markdown",
   "id": "56beb62d",
   "metadata": {},
   "source": [
    "### Cholesterol Analysis\n",
    "To start, I’ll investigate cholesterol levels for patients with heart disease. I'll use the dataset `yes_hd` to save cholesterol levels for patients with heart disease as a variable named `chol_hd`."
   ]
  },
  {
   "cell_type": "code",
   "execution_count": 76,
   "id": "07a280f7",
   "metadata": {},
   "outputs": [
    {
     "data": {
      "image/png": "[encoded data removed]",
      "text/plain": [
       "<Figure size 640x480 with 1 Axes>"
      ]
     },
     "metadata": {},
     "output_type": "display_data"
    }
   ],
   "source": [
    "# box plot of `chol` based on heart disease\n",
    "sns.boxplot(x=heart.heart_disease, y=heart.chol)\n",
    "plt.show()"
   ]
  },
  {
   "cell_type": "markdown",
   "id": "cd4e8d3f",
   "metadata": {},
   "source": [
    "In general, total cholesterol over 240 mg/dl is considered “high” (and therefore unhealthy). I'll first calculate the mean cholesterol level for patients who were diagnosed with heart disease and print it out. \n",
    "\n",
    "After I'llanswer the question, \"Do people with heart disease have high cholesterol levels (greater than or equal to 240 mg/dl) on average? I'll import the function from `scipy.stats` to perform a one-sample T-Test, to test the following null and alternative hypotheses:\n",
    "\n",
    "- Null: People with heart disease have an average cholesterol level equal to 240 mg/dl\n",
    "- Alternative: People with heart disease have an average cholesterol level that is greater than 240 mg/dl"
   ]
  },
  {
   "cell_type": "code",
   "execution_count": 77,
   "id": "ae23c934",
   "metadata": {},
   "outputs": [
    {
     "name": "stdout",
     "output_type": "stream",
     "text": [
      "250.57553956834533\n",
      "Right-tailed test: t-statistic = 2.4440, p-value = 0.0079\n"
     ]
    }
   ],
   "source": [
    "# get cholesterol levels for patients with heart disease\n",
    "chol_hd = yes_hd.chol\n",
    "\n",
    "# calculate mean cholesterol level for patients with hd\n",
    "print(np.mean(chol_hd))\n",
    "\n",
    "# Test if cholesterol is greater than 240 (right-tailed test)\n",
    "from scipy import stats\n",
    "t_stat, p_value = stats.ttest_1samp(chol_hd, popmean=240, alternative='greater')\n",
    "print(f\"Right-tailed test: t-statistic = {t_stat:.4f}, p-value = {p_value:.4f}\")"
   ]
  },
  {
   "cell_type": "markdown",
   "id": "a99fd9fe",
   "metadata": {},
   "source": [
    "After running the one-sided test, we get a p value of `0.0079`.Using a significance threshold of 0.05 we can confidently say  patients with heart disease have an average cholesterol level significantly higher than 240 mg/dl.\n",
    "\n",
    "Next we will check if patients without heart disease have average cholesterol levels significantly above 240 mg/dl?"
   ]
  },
  {
   "cell_type": "code",
   "execution_count": 78,
   "id": "f523421c",
   "metadata": {},
   "outputs": [
    {
     "name": "stdout",
     "output_type": "stream",
     "text": [
      "243.49375\n",
      "Right-tailed test: t-statistic = 0.8221, p-value = 0.2061\n"
     ]
    }
   ],
   "source": [
    "# get cholesterol levels for patients with heart disease\n",
    "chol_no_hd = no_hd.chol\n",
    "\n",
    "# calculate mean cholesterol level for patients with hd\n",
    "print(np.mean(chol_no_hd))\n",
    "\n",
    "# Test if cholesterol is greater than 240 (right-tailed test)\n",
    "from scipy import stats\n",
    "t_stat, p_value = stats.ttest_1samp(chol_no_hd, popmean=240, alternative='greater')\n",
    "print(f\"Right-tailed test: t-statistic = {t_stat:.4f}, p-value = {p_value:.4f}\")"
   ]
  },
  {
   "cell_type": "markdown",
   "id": "0590c033",
   "metadata": {},
   "source": [
    "Despite having an average cholesterol level above 240 mg/dl, we fail to reject the null hypothesis as the p-value of `0.2061` is above our treshold of `0.05`."
   ]
  },
  {
   "cell_type": "markdown",
   "id": "5de87077",
   "metadata": {},
   "source": [
    "### Fasting Blood Sugar Analysis\n",
    "\n",
    "Sometimes, part of an analysis will involve comparing a sample to known population values to see if the sample appears to be representative of the general population.\n",
    "\n",
    "By some estimates, about 8% of the U.S. population had diabetes (diagnosed or undiagnosed) in 1988 when this data was collected. While there are multiple tests that contribute to a diabetes diagnosis, fasting blood sugar levels greater than 120 mg/dl can be indicative of diabetes (or at least, pre-diabetes).\n",
    "\n",
    "We will check to see if this sample was representative of the population at the time, and calculate approximately how many people we would expect to have diabetes in the sample?\n",
    "\n",
    " The fbs column of this dataset indicates whether or not a patient’s fasting blood sugar was greater than 120 mg/dl (TRUE means that their fasting blood sugar was greater than 120 mg/dl; FALSE means it was less than or equal to 120 mg/dl)."
   ]
  },
  {
   "cell_type": "code",
   "execution_count": 85,
   "id": "695aa4f5",
   "metadata": {},
   "outputs": [
    {
     "name": "stdout",
     "output_type": "stream",
     "text": [
      "Number of patients in sample: 299\n",
      "43\n",
      "23.92\n",
      "Two-sided test:\n",
      "P-value: 0.000142\n",
      "95% Confidence Interval: ConfidenceInterval(low=0.1115113717425902, high=1.0)\n"
     ]
    }
   ],
   "source": [
    "# calculate number of patients total\n",
    "num_patients = len(heart)\n",
    "print(f\"Number of patients in sample: {num_patients}\")\n",
    "\n",
    "# calculate number of patients with fbs>120\n",
    "num_highfbs_patients = np.sum(heart.fbs)\n",
    "print(num_highfbs_patients)\n",
    "\n",
    "# calculate 8% of sample size\n",
    "print(0.08*num_patients)\n",
    "\n",
    "# run binomial test\n",
    "from scipy.stats import binomtest\n",
    "result = binomtest(num_highfbs_patients, num_patients, .08, alternative='greater')\n",
    "print(f\"Two-sided test:\")\n",
    "print(f\"P-value: {result.pvalue:.6f}\")\n",
    "print(f\"95% Confidence Interval: {result.proportion_ci()}\")"
   ]
  },
  {
   "cell_type": "markdown",
   "id": "4a73294e",
   "metadata": {},
   "source": [
    "The binom_test() function takes four parameters (in order):\n",
    "\n",
    "- The observed number of “successes” (in this case, the number of people in the sample who had fasting blood sugar greater than 120 mg/dl)\n",
    "\n",
    "- The number of “trials” (in this case, the number of patients)\n",
    "\n",
    "- The null probability of “success” (in this case, 0.08)\n",
    "\n",
    "- The alternative parameter, which indicates the alternative hypothesis for the test (eg.,'two-sided' 'greater' or 'less')\n",
    "\n",
    "\n",
    "After running the test, we get a p-value of `0.000142`. This is less than 0.05, indicating that this sample likely comes from a population where more than 8% of people have fbs > 120 mg/dl."
   ]
  },
  {
   "cell_type": "markdown",
   "id": "6a0c6187",
   "metadata": {},
   "source": [
    "### Predictors of Heart Disease\n",
    "\n",
    "Each of the patients in this dataset underwent an exercise test, during which their heart rate was monitored. For each patient, `thalach` gives us the highest heart rate that the patient achieved during this test.\n",
    "\n",
    "Is `thalach` associated with whether or not a patient will ultimately be diagnosed with heart disease?"
   ]
  },
  {
   "cell_type": "code",
   "execution_count": 87,
   "id": "d20b57a1",
   "metadata": {},
   "outputs": [
    {
     "data": {
      "image/png": "[encoded data removed]",
      "text/plain": [
       "<Figure size 640x480 with 1 Axes>"
      ]
     },
     "metadata": {},
     "output_type": "display_data"
    }
   ],
   "source": [
    "# box plot of `thalach` based on heart disease\n",
    "sns.boxplot(x=heart.heart_disease, y=heart.thalch)\n",
    "plt.show()"
   ]
  },
  {
   "cell_type": "code",
   "execution_count": 88,
   "id": "efa3e5cf",
   "metadata": {},
   "outputs": [],
   "source": [
    "# save `thalach` for hd patients and non-hd patients\n",
    "thalach_hd = heart.thalch[heart.heart_disease == 'presence']\n",
    "thalach_no_hd = heart.thalch[heart.heart_disease == 'absence']"
   ]
  },
  {
   "cell_type": "markdown",
   "id": "f5ef3526",
   "metadata": {},
   "source": [
    "First we will calculate and print the difference in mean thalach for patients diagnosed with heart disease compared to patients without heart disease. Then do the same for the median difference.\n",
    "\n",
    "Next, we'll find out if the average thalach of a heart disease patient is significantly different from the average thalach for a person without heart disease.\n",
    "\n",
    "We will test the following null and alternative hypotheses:\n",
    "\n",
    "- Null: The average thalach for a person with heart disease is equal to the average thalach for a person without heart disease.\n",
    "- Alternative: The average thalach for a person with heart disease is NOT equal to the average thalach for a person without heart disease.\n",
    "\n",
    "\n"
   ]
  },
  {
   "cell_type": "code",
   "execution_count": 93,
   "id": "44996ddf",
   "metadata": {},
   "outputs": [
    {
     "name": "stdout",
     "output_type": "stream",
     "text": [
      "`thalach` mean Difference: 19.90499100719427\n",
      "`thalach` median Difference: 20.0\n",
      "p-value for `thalach` two-sample t-test: 6.805828995165681e-15\n"
     ]
    }
   ],
   "source": [
    "# calculate and print mean difference\n",
    "mean_diff = np.mean(thalach_no_hd) - np.mean(thalach_hd)\n",
    "print(f\"`thalach` mean Difference: {mean_diff}\")\n",
    "\n",
    "# calculate and print median difference\n",
    "mean_diff = np.median(thalach_no_hd) - np.median(thalach_hd)\n",
    "print(f\"`thalach` median Difference: {mean_diff}\")\n",
    "\n",
    "# run two-sample t-test\n",
    "from scipy.stats import ttest_ind\n",
    "tstat, pval = ttest_ind(thalach_hd, thalach_no_hd)\n",
    "print(f\"p-value for `thalach` two-sample t-test: {pval}\")"
   ]
  },
  {
   "cell_type": "markdown",
   "id": "e84b34b6",
   "metadata": {},
   "source": [
    "After running the two-sample t-test, we get a p-value of 6.805828995165681e-15. This is less than 0.05, so we “reject the null hypothesis” and conclude that there is a significant difference in thalach for people with heart disease compared to people without heart disease."
   ]
  },
  {
   "cell_type": "markdown",
   "id": "dcfde14f",
   "metadata": {},
   "source": [
    "### Chest Pain and Max Heart Rate\n",
    "\n",
    "Next, let’s investigate the relationship between thalach (maximum heart rate achieved during exercise) and the type of heart pain a person experiences."
   ]
  },
  {
   "cell_type": "code",
   "execution_count": 96,
   "id": "14757751",
   "metadata": {},
   "outputs": [
    {
     "data": {
      "image/png": "[encoded data removed]",
      "text/plain": [
       "<Figure size 640x480 with 1 Axes>"
      ]
     },
     "metadata": {},
     "output_type": "display_data"
    }
   ],
   "source": [
    "# box plot of `thalach` based on `cp`\n",
    "sns.boxplot(x=heart.cp, y=heart.thalch)\n",
    "plt.show()\n"
   ]
  },
  {
   "cell_type": "code",
   "execution_count": 100,
   "id": "a591ca83",
   "metadata": {},
   "outputs": [],
   "source": [
    "# save `thalach` based on `cp`\n",
    "thalach_typical = heart.thalch[heart.cp == 'typical angina']\n",
    "thalach_asymptom = heart.thalch[heart.cp == 'asymptomatic']\n",
    "thalach_nonangin = heart.thalch[heart.cp == 'non-anginal']\n",
    "thalach_atypical = heart.thalch[heart.cp == 'atypical angina']"
   ]
  },
  {
   "cell_type": "markdown",
   "id": "cb373917",
   "metadata": {},
   "source": [
    "Next, we will run hypothesis test to address the following null and alternative hypotheses:\n",
    "\n",
    "-Null: People with typical angina, non-anginal pain, atypical angina, and asymptomatic people all have the same average thalach.\n",
    "\n",
    "-Alternative: People with typical angina, non-anginal pain, atypical angina, and asymptomatic people do not all have the same average thalach"
   ]
  },
  {
   "cell_type": "code",
   "execution_count": 102,
   "id": "0f614cf2",
   "metadata": {},
   "outputs": [
    {
     "name": "stdout",
     "output_type": "stream",
     "text": [
      "One-Way ANOVA Results:\n",
      "P-value: 4.6848415793401575e-11\n"
     ]
    }
   ],
   "source": [
    "# run ANOVA\n",
    "from scipy.stats import f_oneway\n",
    "Fstat, pval = f_oneway(thalach_typical, \n",
    "                       thalach_asymptom, \n",
    "                       thalach_nonangin, \n",
    "                       thalach_atypical)\n",
    "\n",
    "print(\"One-Way ANOVA Results:\")\n",
    "print(f\"P-value: {pval}\")"
   ]
  },
  {
   "cell_type": "markdown",
   "id": "8cbe134b",
   "metadata": {},
   "source": [
    "After running an ANOVA test we concluded that there is at least one pair of chest pain types (`cp`) for which people with those pain types have significantly different average max heart rates during exercise (`thalach`).\n",
    "\n",
    "We will run another hypothesis test to determine which of those pairs are significantly different. Use an overall type I error rate of 0.05 for all six comparisons.\n"
   ]
  },
  {
   "cell_type": "code",
   "execution_count": 106,
   "id": "38c63e11",
   "metadata": {},
   "outputs": [
    {
     "name": "stdout",
     "output_type": "stream",
     "text": [
      "\n",
      "Statsmodels Tukey HSD Results:\n",
      "          Multiple Comparison of Means - Tukey HSD, FWER=0.05          \n",
      "=======================================================================\n",
      "     group1          group2     meandiff p-adj   lower    upper  reject\n",
      "-----------------------------------------------------------------------\n",
      "   asymptomatic atypical angina  22.6779    0.0  13.5702 31.7856   True\n",
      "   asymptomatic     non-anginal     15.4    0.0   7.8107 22.9893   True\n",
      "   asymptomatic  typical angina  15.8385 0.0058   3.4727 28.2043   True\n",
      "atypical angina     non-anginal  -7.2778 0.2322 -17.1989  2.6432  False\n",
      "atypical angina  typical angina  -6.8394 0.5831 -20.7586  7.0798  False\n",
      "    non-anginal  typical angina   0.4384 0.9998 -12.5381  13.415  False\n",
      "-----------------------------------------------------------------------\n"
     ]
    }
   ],
   "source": [
    "from statsmodels.stats.multicomp import pairwise_tukeyhsd\n",
    "# Run Tukey HSD using statsmodels\n",
    "tukey_sm = pairwise_tukeyhsd(endog=heart.thalch, groups=heart.cp, alpha=0.05)\n",
    "\n",
    "print(\"\\nStatsmodels Tukey HSD Results:\")\n",
    "print(tukey_sm)\n"
   ]
  },
  {
   "cell_type": "markdown",
   "id": "79673746",
   "metadata": {},
   "source": [
    "Maybe surprisingly, people who are '`asymptomatic`' seem to have a lower maximum heart rate (associated with heart disease) than people who have other kinds of chest pain."
   ]
  },
  {
   "cell_type": "markdown",
   "id": "40fefc98",
   "metadata": {},
   "source": [
    "#### Heart Disease and Chest Pain\n",
    "\n",
    "Finally, let’s investigate the relationship between the kind of chest pain a person experiences and whether or not they have heart disease.\n",
    "\n",
    "We will run a hypothesis test for the following null and alternative hypotheses:\n",
    "\n",
    "- Null: There is NOT an association between chest pain type and whether or not someone is diagnosed with heart disease.\n",
    "- Alternative: There is an association between chest pain type and whether or not someone is diagnosed with heart disease.\n"
   ]
  },
  {
   "cell_type": "code",
   "execution_count": 108,
   "id": "ddd0cd8e",
   "metadata": {},
   "outputs": [
    {
     "name": "stdout",
     "output_type": "stream",
     "text": [
      "heart_disease    absence  presence\n",
      "cp                                \n",
      "asymptomatic          39       105\n",
      "atypical angina       40         9\n",
      "non-anginal           65        18\n",
      "typical angina        16         7\n",
      "p-value for chi-square test:  5.250756261663884e-17\n"
     ]
    }
   ],
   "source": [
    "# contingency table of heart disease vs cp\n",
    "Xtab = pd.crosstab(heart.cp, heart.heart_disease)\n",
    "print(Xtab)\n",
    "\n",
    "# run chi-square test\n",
    "from scipy.stats import chi2_contingency\n",
    "chi2, pval, dof, exp = chi2_contingency(Xtab)\n",
    "print('p-value for chi-square test: ', pval)\n",
    "\n"
   ]
  },
  {
   "cell_type": "markdown",
   "id": "e9ff74c1",
   "metadata": {},
   "source": [
    " We calculate a p-value of `5.250756261663884e-17`. This is less than 0.05, so we can conclude that there is a significant association between these variables."
   ]
  }
 ],
 "metadata": {
  "kernelspec": {
   "display_name": "base",
   "language": "python",
   "name": "python3"
  },
  "language_info": {
   "codemirror_mode": {
    "name": "ipython",
    "version": 3
   },
   "file_extension": ".py",
   "mimetype": "text/x-python",
   "name": "python",
   "nbconvert_exporter": "python",
   "pygments_lexer": "ipython3",
   "version": "3.12.7"
  }
 },
 "nbformat": 4,
 "nbformat_minor": 5
}
